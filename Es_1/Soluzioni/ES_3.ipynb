{
 "cells": [
  {
   "cell_type": "code",
   "execution_count": 20,
   "id": "b0f93eec",
   "metadata": {},
   "outputs": [],
   "source": [
    "import numpy as np\n",
    "import scipy.io\n",
    "from scipy.stats import f_oneway,shapiro"
   ]
  },
  {
   "cell_type": "code",
   "execution_count": 10,
   "id": "0aee561b",
   "metadata": {},
   "outputs": [],
   "source": [
    "# Load MATLAB data\n",
    "data = scipy.io.loadmat('Data_example3.mat')\n",
    "strength = data['strength']\n",
    "alloy = data['alloy']"
   ]
  },
  {
   "cell_type": "code",
   "execution_count": 11,
   "id": "038b7945",
   "metadata": {},
   "outputs": [
    {
     "data": {
      "text/plain": [
       "0.37546423077583313"
      ]
     },
     "execution_count": 11,
     "metadata": {},
     "output_type": "execute_result"
    }
   ],
   "source": [
    "# Test di normalità\n",
    "_, p = shapiro(data['strength'])\n",
    "p"
   ]
  },
  {
   "cell_type": "code",
   "execution_count": 12,
   "id": "d7b0ea27",
   "metadata": {},
   "outputs": [],
   "source": [
    "# Divido i due gruppi\n",
    "\n",
    "st = data['strength'][data['alloy'] == 'st']\n",
    "al1 = data['strength'][data['alloy'] == 'al1']\n",
    "al2 = data['strength'][data['alloy'] == 'al1']\n",
    "\n",
    "mean_st = np.nanmean(st)\n",
    "mean_al1 = np.nanmean(al1)\n",
    "mean_al2 = np.nanmean(al2)\n",
    "dev_st = np.nanstd(st)\n",
    "dev_al1 = np.nanstd(al1)\n",
    "dev_al2 = np.nanstd(al2)"
   ]
  },
  {
   "cell_type": "code",
   "execution_count": 13,
   "id": "e75b29c7",
   "metadata": {},
   "outputs": [
    {
     "data": {
      "image/png": "[encoded data removed]",
      "text/plain": [
       "<Figure size 640x480 with 1 Axes>"
      ]
     },
     "metadata": {},
     "output_type": "display_data"
    }
   ],
   "source": [
    "## Visualizzazione dei dati\n",
    "plt.figure()\n",
    "plt.bar([1, 2,3], [mean_st, mean_al1, mean_al2], color='blue')\n",
    "plt.errorbar([1, 2,3], [mean_st, mean_al1, mean_al2], yerr=[dev_st,dev_al1, dev_al2], fmt='sr', markerfacecolor='red')\n",
    "plt.xticks([1, 2,3], ['Steel','Alloy1','Alloy2'])\n",
    "plt.ylabel('Deflection [in/1000]')\n",
    "plt.show()"
   ]
  },
  {
   "cell_type": "code",
   "execution_count": 15,
   "id": "a4f94631",
   "metadata": {},
   "outputs": [
    {
     "data": {
      "text/plain": [
       "0.00014126842501452228"
      ]
     },
     "execution_count": 15,
     "metadata": {},
     "output_type": "execute_result"
    }
   ],
   "source": [
    "## Scegliere il test opportuno e formulare H0\n",
    "_,p3= f_oneway(st,al1,al2)\n",
    "p3"
   ]
  },
  {
   "cell_type": "code",
   "execution_count": 17,
   "id": "02c464d5",
   "metadata": {},
   "outputs": [
    {
     "name": "stdout",
     "output_type": "stream",
     "text": [
      "Reject H0\n"
     ]
    }
   ],
   "source": [
    "if p3 < 0.05: \n",
    "    print(\"Reject H0\")\n",
    "else: \n",
    "    print(\"Fail to reject H0\")"
   ]
  },
  {
   "cell_type": "code",
   "execution_count": null,
   "id": "4a0dbedc",
   "metadata": {},
   "outputs": [],
   "source": []
  }
 ],
 "metadata": {
  "kernelspec": {
   "display_name": "Python 3 (ipykernel)",
   "language": "python",
   "name": "python3"
  },
  "language_info": {
   "codemirror_mode": {
    "name": "ipython",
    "version": 3
   },
   "file_extension": ".py",
   "mimetype": "text/x-python",
   "name": "python",
   "nbconvert_exporter": "python",
   "pygments_lexer": "ipython3",
   "version": "3.10.9"
  }
 },
 "nbformat": 4,
 "nbformat_minor": 5
}
