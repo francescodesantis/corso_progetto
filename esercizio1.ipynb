{
 "cells": [
  {
   "cell_type": "markdown",
   "metadata": {},
   "source": [
    " # Esercizio 1"
   ]
  },
  {
   "cell_type": "markdown",
   "metadata": {},
   "source": [
    "Definire una sinusoide di periodo T=4s, ipotizzando frequenza di campionamento fs=100Hz e durata del segnale Ttot=12 s. "
   ]
  },
  {
   "cell_type": "code",
   "execution_count": null,
   "metadata": {},
   "outputs": [],
   "source": [
    "import numpy as np​"
   ]
  },
  {
   "cell_type": "code",
   "execution_count": null,
   "metadata": {},
   "outputs": [],
   "source": [
    "import numpy as np​\n",
    "\n",
    "import matplotlib.pyplot as plt​\n",
    "\n",
    "# Parametri del segnale​\n",
    "\n",
    "T = 4  # periodo in secondi​\n",
    "\n",
    "fs = 100  # frequenza di campionamento in Hz​\n",
    "\n",
    "Ttot = 12  # durata totale del segnale in secondi​\n",
    "\n",
    "# Creazione dell'array del tempo​\n",
    "\n",
    "t = np.arange(0, Ttot, 1/fs)​\n",
    "\n",
    "# Creazione del segnale sinusoidale​\n",
    "\n",
    "f = 1 / T  # frequenza della sinusoide​\n",
    "\n",
    "sin = np.sin(2 * np.pi * f * t)​"
   ]
  },
  {
   "cell_type": "code",
   "execution_count": null,
   "metadata": {},
   "outputs": [],
   "source": [
    "# Limitazione del grafico al range [0,10] secondi​\n",
    "\n",
    "plt.plot(t, sin)​\n",
    "\n",
    "plt.xlim(0, 10)​\n",
    "\n",
    "# Aggiunta delle etichette​\n",
    "\n",
    "plt.xlabel('Tempo (s)')​\n",
    "\n",
    "plt.ylabel('Amplitude')​\n",
    "\n",
    "plt.title('signal')​\n",
    "​\n",
    "# Mostrare il grafico​\n",
    "\n",
    "plt.show()"
   ]
  },
  {
   "cell_type": "code",
   "execution_count": null,
   "metadata": {},
   "outputs": [],
   "source": [
    "# Limitazione del grafico al range [0,10] secondi​\n",
    "\n",
    "plt.plot(t, sin)​\n",
    "\n",
    "plt.xlim(0, 10)​\n",
    "\n",
    "# Trovare gli indici dei massimi del segnale​\n",
    "\n",
    "idx_max = np.where(sin == np.max(sin))​\n",
    "\n",
    "# Plot degli asterischi rossi sopra i massimi del segnale​\n",
    "\n",
    "plt.plot(t[idx_max], sin[idx_max], 'r*')​\n",
    "​\n",
    "# Aggiunta delle etichette​\n",
    "\n",
    "plt.xlabel('Tempo (s)')​\n",
    "\n",
    "plt.ylabel('Amplitude')​\n",
    "\n",
    "plt.title('signal')​\n",
    "\n",
    "# Mostrare il grafico​\n",
    "\n",
    "plt.show()"
   ]
  }
 ],
 "metadata": {
  "kernelspec": {
   "display_name": "cardio_env",
   "language": "python",
   "name": "python3"
  },
  "language_info": {
   "name": "python",
   "version": "3.12.9"
  }
 },
 "nbformat": 4,
 "nbformat_minor": 2
}
