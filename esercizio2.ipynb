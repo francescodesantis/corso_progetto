{
 "cells": [
  {
   "cell_type": "markdown",
   "metadata": {},
   "source": [
    "# Esercizio 2"
   ]
  },
  {
   "cell_type": "markdown",
   "metadata": {},
   "source": [
    "## Punto 1"
   ]
  },
  {
   "cell_type": "markdown",
   "metadata": {},
   "source": [
    "Utilizzando le librerie numpy, creare una variabile casuale (Y) con distribuzione normale, dati la lunghezza (n), la media (media) e la deviazione standard (deviaz) desiderate."
   ]
  },
  {
   "cell_type": "code",
   "execution_count": 13,
   "metadata": {},
   "outputs": [
    {
     "data": {
      "image/png": "[encoded data removed]",
      "text/plain": [
       "<Figure size 640x480 with 1 Axes>"
      ]
     },
     "metadata": {},
     "output_type": "display_data"
    }
   ],
   "source": [
    "import numpy as np\n",
    "import matplotlib.pyplot as plt\n",
    "\n",
    "# Parametri della variabile casuale​\n",
    "n = 1000  # lunghezza della variabile​\n",
    "media = 10\n",
    "deviaz = 2\n",
    "\n",
    "# Generazione della variabile casuale con distribuzione normale​\n",
    "Y = np.random.randn(n) * deviaz + media\n",
    "\n",
    "# Plotta il risulato​\n",
    "plt.hist(Y)\n",
    "plt.title(\"Y distribution\")\n",
    "plt.show()"
   ]
  },
  {
   "cell_type": "markdown",
   "metadata": {},
   "source": [
    "## Punto 2"
   ]
  },
  {
   "cell_type": "markdown",
   "metadata": {},
   "source": [
    "Creare 3 variabili (Y1, Y2, Y3) con il comando appena definito"
   ]
  },
  {
   "cell_type": "code",
   "execution_count": 10,
   "metadata": {},
   "outputs": [],
   "source": [
    "# Parametri della variabile casuale​\n",
    "n = 1000  # lunghezza della variabile​\n",
    "media = 10\n",
    "deviaz = 2\n",
    "\n",
    "# Generazione della variabile casuale con distribuzione normale​\n",
    "Y1 = np.random.randn(n) * deviaz + media\n",
    "Y2 = np.random.randn(n) * deviaz + media\n",
    "Y3 = np.random.randn(n) * deviaz + media"
   ]
  },
  {
   "cell_type": "code",
   "execution_count": 12,
   "metadata": {},
   "outputs": [
    {
     "name": "stdout",
     "output_type": "stream",
     "text": [
      "Variabile Y1: Media = 10.050046203968217, Deviazione standard = 1.9625650792054237\n",
      "Variabile Y2: Media = 10.04537315117105, Deviazione standard = 1.958882688352525\n",
      "Variabile Y3: Media = 9.938160197082093, Deviazione standard = 2.06896231025999\n"
     ]
    }
   ],
   "source": [
    "# Calcolo media e deviazione standard​\n",
    "medie = []\n",
    "deviazioni = []\n",
    "\n",
    "for Y in [Y1, Y2, Y3]:\n",
    "    medie.append(np.mean(Y))\n",
    "    deviazioni.append(np.std(Y))\n",
    "\n",
    "# Stampa delle medie e delle deviazioni standard​\n",
    "for i in range(3):\n",
    "    print(f\"Variabile Y{i+1}: Media = {medie[i]}, Deviazione standard = {deviazioni[i]}\")"
   ]
  },
  {
   "cell_type": "code",
   "execution_count": null,
   "metadata": {},
   "outputs": [],
   "source": []
  }
 ],
 "metadata": {
  "kernelspec": {
   "display_name": "cardio_env",
   "language": "python",
   "name": "python3"
  },
  "language_info": {
   "codemirror_mode": {
    "name": "ipython",
    "version": 3
   },
   "file_extension": ".py",
   "mimetype": "text/x-python",
   "name": "python",
   "nbconvert_exporter": "python",
   "pygments_lexer": "ipython3",
   "version": "3.12.9"
  }
 },
 "nbformat": 4,
 "nbformat_minor": 2
}
