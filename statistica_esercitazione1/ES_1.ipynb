{
 "cells": [
  {
   "cell_type": "code",
   "execution_count": null,
   "id": "19776e55",
   "metadata": {},
   "outputs": [],
   "source": [
    "#Per Google Colab\n",
    "#!git clone https://github.com/francescodesantis/corso_progetto.git"
   ]
  },
  {
   "cell_type": "code",
   "execution_count": null,
   "id": "0534f7d4",
   "metadata": {},
   "outputs": [],
   "source": [
    "import os\n",
    "#os.chdir('corso_progetto/statistica_esercitazione1') \n",
    "print(os.getcwd()) "
   ]
  },
  {
   "cell_type": "code",
   "execution_count": null,
   "id": "b0f93eec",
   "metadata": {},
   "outputs": [],
   "source": [
    "import numpy as np\n",
    "import scipy.io\n",
    "import matplotlib.pyplot as plt\n"
   ]
  },
  {
   "cell_type": "code",
   "execution_count": null,
   "id": "0aee561b",
   "metadata": {},
   "outputs": [],
   "source": [
    "# Load MATLAB data\n",
    "data = scipy.io.loadmat('Data_example1.mat')"
   ]
  },
  {
   "cell_type": "code",
   "execution_count": null,
   "id": "717c43ce",
   "metadata": {},
   "outputs": [],
   "source": [
    "type(data)"
   ]
  },
  {
   "cell_type": "code",
   "execution_count": null,
   "id": "a36b65bd",
   "metadata": {},
   "outputs": [],
   "source": [
    "data.keys()"
   ]
  },
  {
   "cell_type": "code",
   "execution_count": null,
   "id": "76bc81cd",
   "metadata": {},
   "outputs": [],
   "source": [
    "print(data['__header__'])"
   ]
  },
  {
   "cell_type": "code",
   "execution_count": null,
   "id": "6800923c",
   "metadata": {},
   "outputs": [],
   "source": [
    "print(type(data['Group']))  # Check the type of 'Group'\n",
    "print(data['Maximal_Force'])        # Print its contents"
   ]
  },
  {
   "cell_type": "code",
   "execution_count": null,
   "id": "d3ef66ba",
   "metadata": {},
   "outputs": [],
   "source": [
    "Maximal_Force = data['Maximal_Force']\n",
    "Group = data['Group']"
   ]
  },
  {
   "cell_type": "code",
   "execution_count": 83,
   "id": "206e66f4",
   "metadata": {},
   "outputs": [
    {
     "data": {
      "text/plain": [
       "108"
      ]
     },
     "execution_count": 83,
     "metadata": {},
     "output_type": "execute_result"
    }
   ],
   "source": [
    "len(Maximal_Force)"
   ]
  },
  {
   "cell_type": "code",
   "execution_count": null,
   "id": "78cbba82",
   "metadata": {},
   "outputs": [],
   "source": [
    "# Visualizzazione preliminare dei dati\n",
    "plt.figure(1, figsize = (7,5))\n",
    "plt.hist(Maximal_Force)\n",
    "plt.xlabel(\"Maximal Force [kg]\")\n",
    "plt.ylabel(\"Frequency\")\n",
    "plt.show()"
   ]
  },
  {
   "cell_type": "code",
   "execution_count": null,
   "id": "7feba20c",
   "metadata": {},
   "outputs": [],
   "source": [
    "# Visualizzazione preliminare dei dati\n",
    "# The Group == 'Dominant' expression checks each element of the Group array to see if it is equal to 'Dominant'.\n",
    "#  This will return a Boolean array of the same size as Group, where each element is either\n",
    "#  True (if the condition is met) or False (if it isn't).\n",
    "\n",
    "fig, ax = plt.subplots(2, figsize=(7, 5))\n",
    "\n",
    "# Histogram for Dominant group on first subplot\n",
    "ax[0].hist(Maximal_Force[Group == 'Dominant'], bins=20, color='blue', alpha=0.7)\n",
    "ax[0].set_title('Histogram for Dominant Group')\n",
    "ax[0].set_xlabel('Maximal Force')\n",
    "ax[0].set_ylabel('Frequency')\n",
    "\n",
    "# Histogram for nDominant group on second subplot\n",
    "ax[1].hist(Maximal_Force[Group == 'NDominant'], bins=20, color='red', alpha=0.7)\n",
    "ax[1].set_title('Histogram for NDominant Group')\n",
    "ax[1].set_xlabel('Maximal Force')\n",
    "ax[1].set_ylabel('Frequency')\n",
    "\n",
    "plt.tight_layout()  # Adjust layout for better spacing\n",
    "plt.show()"
   ]
  },
  {
   "cell_type": "code",
   "execution_count": null,
   "id": "79286fe5",
   "metadata": {},
   "outputs": [],
   "source": [
    "fig, ax = plt.subplots(figsize=(7, 5))\n",
    "\n",
    "# Overlayed histograms with different colors and transparency\n",
    "ax.hist(Maximal_Force[Group == 'Dominant'], bins=20, color='blue', alpha=0.7, label='Dominant')\n",
    "ax.hist(Maximal_Force[Group == 'NDominant'], bins=20, color='red', alpha=0.7, label='nDominant')\n",
    "\n",
    "# Add titles and labels\n",
    "ax.set_title('Histogram of Maximal Force by Group')\n",
    "ax.set_xlabel('Maximal Force')\n",
    "ax.set_ylabel('Frequency')\n",
    "\n",
    "# Add a legend to distinguish between the two groups\n",
    "ax.legend()\n",
    "\n",
    "plt.tight_layout()  # Adjust layout for better spacing\n",
    "plt.show()\n"
   ]
  },
  {
   "cell_type": "code",
   "execution_count": null,
   "id": "d1fde3b5",
   "metadata": {},
   "outputs": [],
   "source": [
    "from scipy.stats import norm, mannwhitneyu, normaltest, shapiro"
   ]
  },
  {
   "cell_type": "code",
   "execution_count": null,
   "id": "0b1f4f36",
   "metadata": {},
   "outputs": [],
   "source": [
    "#help(shapiro)\n",
    "help(normaltest)"
   ]
  },
  {
   "cell_type": "code",
   "execution_count": null,
   "id": "ef54e681",
   "metadata": {},
   "outputs": [],
   "source": [
    "# I dati provengono da una distribuzione Gaussiana?\n",
    "_,p = normaltest(Maximal_Force)\n",
    "p"
   ]
  },
  {
   "cell_type": "code",
   "execution_count": null,
   "id": "e75b29c7",
   "metadata": {},
   "outputs": [],
   "source": [
    "# Visualizzare i Dati con i boxplot\n",
    "plt.figure()\n",
    "plt.boxplot([Maximal_Force[Group=='Dominant'], Maximal_Force[Group=='NDominant']])\n",
    "plt.ylabel('Maximal Force [kg]')\n",
    "plt.xticks([1, 2], ['Dominant', 'NDominant'])\n",
    "plt.show()"
   ]
  },
  {
   "cell_type": "markdown",
   "id": "c4511b34",
   "metadata": {},
   "source": [
    "The Group == 'Dominant' expression checks each element of the Group array to see if it is equal to 'Dominant'. This will return a Boolean array of the same size as Group, where each element is either True (if the condition is met) or False (if it isn't)."
   ]
  },
  {
   "cell_type": "code",
   "execution_count": null,
   "id": "a4f94631",
   "metadata": {},
   "outputs": [],
   "source": [
    "#Definisco i valori per i due gruppi\n",
    "Maximal_Force_D = Maximal_Force[:54]\n",
    "Maximal_Force_ND = Maximal_Force[54:]"
   ]
  },
  {
   "cell_type": "code",
   "execution_count": null,
   "id": "9899739e",
   "metadata": {},
   "outputs": [],
   "source": [
    "# I dati provengono da una distribuzione Gaussiana?\n",
    "_,p = normaltest(Maximal_Force_ND)\n",
    "p"
   ]
  },
  {
   "cell_type": "code",
   "execution_count": null,
   "id": "7c8740cb",
   "metadata": {},
   "outputs": [],
   "source": [
    "# Effettuo il test opportunamente selezionato\n",
    "from scipy.stats import wilcoxon\n",
    "_, p1 = wilcoxon(Maximal_Force_D, Maximal_Force_ND)"
   ]
  },
  {
   "cell_type": "code",
   "execution_count": null,
   "id": "38458491",
   "metadata": {},
   "outputs": [],
   "source": [
    "p1"
   ]
  },
  {
   "cell_type": "code",
   "execution_count": null,
   "id": "02c464d5",
   "metadata": {},
   "outputs": [],
   "source": [
    "if p1 < 0.05: \n",
    "    print(\"Reject H0\")\n",
    "else: \n",
    "    print(\"Fail to reject H0\")\n"
   ]
  }
 ],
 "metadata": {
  "kernelspec": {
   "display_name": "Python 3",
   "language": "python",
   "name": "python3"
  },
  "language_info": {
   "codemirror_mode": {
    "name": "ipython",
    "version": 3
   },
   "file_extension": ".py",
   "mimetype": "text/x-python",
   "name": "python",
   "nbconvert_exporter": "python",
   "pygments_lexer": "ipython3",
   "version": "3.12.5"
  }
 },
 "nbformat": 4,
 "nbformat_minor": 5
}
