{
 "cells": [
  {
   "cell_type": "code",
   "execution_count": 1,
   "id": "b0f93eec",
   "metadata": {},
   "outputs": [],
   "source": [
    "import numpy as np\n",
    "import scipy.io\n",
    "import matplotlib.pyplot as plt\n",
    "from scipy.stats import norm, mannwhitneyu, normaltest, ttest_ind, shapiro"
   ]
  },
  {
   "cell_type": "code",
   "execution_count": 3,
   "id": "0aee561b",
   "metadata": {},
   "outputs": [
    {
     "data": {
      "text/plain": [
       "dict_keys(['__header__', '__version__', '__globals__', 'Patients', 'TMTa'])"
      ]
     },
     "execution_count": 3,
     "metadata": {},
     "output_type": "execute_result"
    }
   ],
   "source": [
    "# Load MATLAB data\n",
    "data = scipy.io.loadmat('../Data_example2.mat')\n",
    "data.keys()"
   ]
  },
  {
   "cell_type": "code",
   "execution_count": 4,
   "id": "3e65ee72",
   "metadata": {},
   "outputs": [],
   "source": [
    "TMTa = data['TMTa']\n",
    "TMTa = TMTa[~np.isnan(TMTa)]\n",
    "Patients = data['Patients']"
   ]
  },
  {
   "cell_type": "code",
   "execution_count": 5,
   "id": "71d86877",
   "metadata": {},
   "outputs": [
    {
     "data": {
      "text/plain": [
       "21"
      ]
     },
     "execution_count": 5,
     "metadata": {},
     "output_type": "execute_result"
    }
   ],
   "source": [
    "len(TMTa)"
   ]
  },
  {
   "cell_type": "code",
   "execution_count": 9,
   "id": "78cbba82",
   "metadata": {},
   "outputs": [
    {
     "data": {
      "image/png": "[encoded data removed]",
      "text/plain": [
       "<Figure size 700x500 with 1 Axes>"
      ]
     },
     "metadata": {},
     "output_type": "display_data"
    }
   ],
   "source": [
    "# Visualizzazione preliminare dei dati\n",
    "fig, ax = plt.subplots(1, figsize = (7,5))\n",
    "ax.hist(TMTa, bins = 10)\n",
    "ax.set_xlabel(\"TMTa execution time [s]\")\n",
    "ax.set_ylabel(\"Frequency\")\n",
    "ax.spines['top'].set_visible(False)\n",
    "ax.spines['right'].set_visible(False)"
   ]
  },
  {
   "cell_type": "code",
   "execution_count": 26,
   "id": "32910e19",
   "metadata": {},
   "outputs": [
    {
     "data": {
      "text/plain": [
       "np.float64(0.0035635768312282136)"
      ]
     },
     "execution_count": 26,
     "metadata": {},
     "output_type": "execute_result"
    }
   ],
   "source": [
    "# Test di normalità: i dati vengono da una distribuzione Gaussiana?\n",
    "#uso shapiro perchè consigliato per piccoli dataset (n = 23, pochi samples)\n",
    "#normaltest mi avrebbe dato p_value alto, quindi non potevo rifiutare l'ipotesi nulla H0 di normalità\n",
    "_,p = shapiro(TMTa)\n",
    "#_,p = normaltest(TMTa)\n",
    "p"
   ]
  },
  {
   "cell_type": "code",
   "execution_count": null,
   "id": "d7b0ea27",
   "metadata": {},
   "outputs": [],
   "source": [
    "# Divido i due gruppi\n",
    "TMTa_dem = data['TMTa'][data['Patients'] == 'Dementia']\n",
    "TMTa_dem = TMTa_dem[~np.isnan(TMTa_dem)]\n",
    "TMTa_sani = data['TMTa'][data['Patients'] == 'Healthy']\n",
    "TMTa_sani = TMTa_sani[~np.isnan(TMTa_sani)]\n",
    "mean_dem = np.nanmean(TMTa_dem)\n",
    "mean_sani = np.nanmean(TMTa_sani)\n",
    "dev_dem = np.nanstd(TMTa_dem)\n",
    "dev_sani = np.nanstd(TMTa_sani)"
   ]
  },
  {
   "cell_type": "code",
   "execution_count": 28,
   "id": "587dc847",
   "metadata": {},
   "outputs": [
    {
     "data": {
      "text/plain": [
       "np.float64(0.12084823545653561)"
      ]
     },
     "execution_count": 28,
     "metadata": {},
     "output_type": "execute_result"
    }
   ],
   "source": [
    "_,p = shapiro(TMTa_sani)\n",
    "p"
   ]
  },
  {
   "cell_type": "code",
   "execution_count": 29,
   "id": "d081123f",
   "metadata": {},
   "outputs": [
    {
     "data": {
      "text/plain": [
       "np.float64(0.029085546832107085)"
      ]
     },
     "execution_count": 29,
     "metadata": {},
     "output_type": "execute_result"
    }
   ],
   "source": [
    "_,p = shapiro(TMTa_dem)\n",
    "p"
   ]
  },
  {
   "cell_type": "code",
   "execution_count": 16,
   "id": "e75b29c7",
   "metadata": {},
   "outputs": [
    {
     "data": {
      "image/png": "[encoded data removed]",
      "text/plain": [
       "<Figure size 640x480 with 1 Axes>"
      ]
     },
     "metadata": {},
     "output_type": "display_data"
    }
   ],
   "source": [
    "## Visualizzazione dei dati\n",
    "plt.figure()\n",
    "plt.bar([1, 2], [mean_dem, mean_sani], color='blue')\n",
    "plt.errorbar([1, 2], [mean_dem, mean_sani], yerr=[dev_dem, dev_sani], fmt='sr', markerfacecolor='red')\n",
    "plt.xticks([1, 2], ['Dementia Patient', 'Healthy'])\n",
    "plt.ylabel('TMTa execution time [s]')\n",
    "plt.show()"
   ]
  },
  {
   "cell_type": "code",
   "execution_count": 24,
   "id": "77304161",
   "metadata": {},
   "outputs": [
    {
     "data": {
      "text/plain": [
       "np.float64(0.00025051809382168244)"
      ]
     },
     "execution_count": 24,
     "metadata": {},
     "output_type": "execute_result"
    }
   ],
   "source": [
    "# Effettuo il test opportunamente selezionato\n",
    "from scipy.stats import ranksums\n",
    "_, p1 = ranksums(TMTa_sani, TMTa_dem)\n",
    "p1"
   ]
  },
  {
   "cell_type": "code",
   "execution_count": 30,
   "id": "02c464d5",
   "metadata": {},
   "outputs": [
    {
     "name": "stdout",
     "output_type": "stream",
     "text": [
      "Reject H0\n"
     ]
    }
   ],
   "source": [
    "if p1 < 0.05: \n",
    "    print(\"Reject H0\")\n",
    "else: \n",
    "    print(\"Fail to reject H0\")"
   ]
  }
 ],
 "metadata": {
  "kernelspec": {
   "display_name": "corso_progetto_env",
   "language": "python",
   "name": "python3"
  },
  "language_info": {
   "codemirror_mode": {
    "name": "ipython",
    "version": 3
   },
   "file_extension": ".py",
   "mimetype": "text/x-python",
   "name": "python",
   "nbconvert_exporter": "python",
   "pygments_lexer": "ipython3",
   "version": "3.13.3"
  }
 },
 "nbformat": 4,
 "nbformat_minor": 5
}
