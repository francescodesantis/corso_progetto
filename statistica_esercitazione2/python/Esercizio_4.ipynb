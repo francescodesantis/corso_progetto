{
 "cells": [
  {
   "cell_type": "code",
   "execution_count": 1,
   "id": "d214e86f",
   "metadata": {},
   "outputs": [],
   "source": [
    "import numpy as np\n",
    "import pandas as pd\n",
    "import scipy.io\n",
    "import matplotlib.pyplot as plt\n",
    "from scipy.stats import norm, spearmanr,pearsonr,normaltest\n",
    "from scipy.stats import shapiro"
   ]
  },
  {
   "cell_type": "code",
   "execution_count": 3,
   "id": "38f21251",
   "metadata": {},
   "outputs": [],
   "source": [
    "# Load MATLAB data\n",
    "data = scipy.io.loadmat('../Data_example7.mat')"
   ]
  },
  {
   "cell_type": "code",
   "execution_count": 4,
   "id": "9f4dc2a7",
   "metadata": {},
   "outputs": [
    {
     "data": {
      "text/plain": [
       "dict_keys(['__header__', '__version__', '__globals__', 'Stride_time_solette', 'Stride_time_tappeto'])"
      ]
     },
     "execution_count": 4,
     "metadata": {},
     "output_type": "execute_result"
    }
   ],
   "source": [
    "data.keys()"
   ]
  },
  {
   "cell_type": "code",
   "execution_count": 5,
   "id": "15fe02e2",
   "metadata": {},
   "outputs": [],
   "source": [
    "Stride_time_solette= data['Stride_time_solette']\n",
    "Stride_time_tappeto= data['Stride_time_tappeto']"
   ]
  },
  {
   "cell_type": "code",
   "execution_count": 10,
   "id": "8e608f98",
   "metadata": {},
   "outputs": [
    {
     "data": {
      "text/plain": [
       "array([[1.047],\n",
       "       [1.045],\n",
       "       [1.044],\n",
       "       [1.241],\n",
       "       [1.236],\n",
       "       [1.216],\n",
       "       [1.298],\n",
       "       [1.112],\n",
       "       [1.179],\n",
       "       [1.187],\n",
       "       [1.184],\n",
       "       [1.238],\n",
       "       [1.172],\n",
       "       [1.141],\n",
       "       [1.092],\n",
       "       [1.066],\n",
       "       [1.135],\n",
       "       [1.121],\n",
       "       [1.066],\n",
       "       [1.17 ],\n",
       "       [1.239],\n",
       "       [1.063],\n",
       "       [1.118],\n",
       "       [1.229],\n",
       "       [1.15 ],\n",
       "       [1.085],\n",
       "       [1.13 ],\n",
       "       [1.29 ],\n",
       "       [0.945],\n",
       "       [1.131],\n",
       "       [1.097],\n",
       "       [1.39 ],\n",
       "       [1.26 ],\n",
       "       [1.236],\n",
       "       [1.201],\n",
       "       [1.508],\n",
       "       [1.117],\n",
       "       [1.162],\n",
       "       [1.188],\n",
       "       [1.089],\n",
       "       [1.178],\n",
       "       [1.246],\n",
       "       [1.226],\n",
       "       [1.199],\n",
       "       [1.141],\n",
       "       [1.127],\n",
       "       [1.104],\n",
       "       [1.235],\n",
       "       [1.108],\n",
       "       [1.079],\n",
       "       [1.244],\n",
       "       [1.176],\n",
       "       [1.198],\n",
       "       [1.221],\n",
       "       [1.221],\n",
       "       [1.097],\n",
       "       [1.142],\n",
       "       [1.227],\n",
       "       [1.179],\n",
       "       [1.033],\n",
       "       [1.125]])"
      ]
     },
     "execution_count": 10,
     "metadata": {},
     "output_type": "execute_result"
    }
   ],
   "source": [
    "Stride_time_tappeto"
   ]
  },
  {
   "cell_type": "code",
   "execution_count": 11,
   "id": "67e47748",
   "metadata": {},
   "outputs": [
    {
     "data": {
      "text/plain": [
       "array([1.047, 1.045, 1.044, 1.241, 1.236, 1.216, 1.298, 1.112, 1.179,\n",
       "       1.187, 1.184, 1.238, 1.172, 1.141, 1.092, 1.066, 1.135, 1.121,\n",
       "       1.066, 1.17 , 1.239, 1.063, 1.118, 1.229, 1.15 , 1.085, 1.13 ,\n",
       "       1.29 , 0.945, 1.131, 1.097, 1.39 , 1.26 , 1.236, 1.201, 1.508,\n",
       "       1.117, 1.162, 1.188, 1.089, 1.178, 1.246, 1.226, 1.199, 1.141,\n",
       "       1.127, 1.104, 1.235, 1.108, 1.079, 1.244, 1.176, 1.198, 1.221,\n",
       "       1.221, 1.097, 1.142, 1.227, 1.179, 1.033, 1.125])"
      ]
     },
     "execution_count": 11,
     "metadata": {},
     "output_type": "execute_result"
    }
   ],
   "source": [
    "Stride_time_tappeto.flatten()"
   ]
  },
  {
   "cell_type": "code",
   "execution_count": 12,
   "id": "041987b1",
   "metadata": {
    "scrolled": true
   },
   "outputs": [],
   "source": [
    "df = pd.DataFrame({'Stride_time_solette': Stride_time_solette[:,0],\n",
    "                  'Stride_time_tappeto': Stride_time_tappeto[:,0]})\n",
    "\n",
    "#Stride_time_tappeto.flatten() = Stride_time_solette[:,0]"
   ]
  },
  {
   "cell_type": "code",
   "execution_count": 13,
   "id": "7b31cd08",
   "metadata": {},
   "outputs": [
    {
     "data": {
      "text/html": [
       "<div>\n",
       "<style scoped>\n",
       "    .dataframe tbody tr th:only-of-type {\n",
       "        vertical-align: middle;\n",
       "    }\n",
       "\n",
       "    .dataframe tbody tr th {\n",
       "        vertical-align: top;\n",
       "    }\n",
       "\n",
       "    .dataframe thead th {\n",
       "        text-align: right;\n",
       "    }\n",
       "</style>\n",
       "<table border=\"1\" class=\"dataframe\">\n",
       "  <thead>\n",
       "    <tr style=\"text-align: right;\">\n",
       "      <th></th>\n",
       "      <th>Stride_time_solette</th>\n",
       "      <th>Stride_time_tappeto</th>\n",
       "    </tr>\n",
       "  </thead>\n",
       "  <tbody>\n",
       "    <tr>\n",
       "      <th>0</th>\n",
       "      <td>1.117</td>\n",
       "      <td>1.047</td>\n",
       "    </tr>\n",
       "    <tr>\n",
       "      <th>1</th>\n",
       "      <td>1.075</td>\n",
       "      <td>1.045</td>\n",
       "    </tr>\n",
       "    <tr>\n",
       "      <th>2</th>\n",
       "      <td>1.091</td>\n",
       "      <td>1.044</td>\n",
       "    </tr>\n",
       "    <tr>\n",
       "      <th>3</th>\n",
       "      <td>1.284</td>\n",
       "      <td>1.241</td>\n",
       "    </tr>\n",
       "    <tr>\n",
       "      <th>4</th>\n",
       "      <td>1.216</td>\n",
       "      <td>1.236</td>\n",
       "    </tr>\n",
       "  </tbody>\n",
       "</table>\n",
       "</div>"
      ],
      "text/plain": [
       "   Stride_time_solette  Stride_time_tappeto\n",
       "0                1.117                1.047\n",
       "1                1.075                1.045\n",
       "2                1.091                1.044\n",
       "3                1.284                1.241\n",
       "4                1.216                1.236"
      ]
     },
     "execution_count": 13,
     "metadata": {},
     "output_type": "execute_result"
    }
   ],
   "source": [
    "df.head()"
   ]
  },
  {
   "cell_type": "code",
   "execution_count": 15,
   "id": "c5b88f2c",
   "metadata": {},
   "outputs": [
    {
     "data": {
      "image/png": "[encoded data removed]",
      "text/plain": [
       "<Figure size 700x500 with 1 Axes>"
      ]
     },
     "metadata": {},
     "output_type": "display_data"
    }
   ],
   "source": [
    "import statsmodels.api as sm\n",
    "import matplotlib.pyplot as plt\n",
    "\n",
    "#create Bland-Altman plot                  \n",
    "f, ax = plt.subplots(1, figsize = (7,5))\n",
    "sm.graphics.mean_diff_plot(df.Stride_time_tappeto, df.Stride_time_solette, ax = ax)\n",
    "ax.spines['top'].set_visible(False)\n",
    "ax.spines['right'].set_visible(False)\n",
    "#display Bland-Altman plot\n",
    "plt.show()"
   ]
  },
  {
   "cell_type": "code",
   "execution_count": null,
   "id": "dfd99376",
   "metadata": {},
   "outputs": [],
   "source": []
  }
 ],
 "metadata": {
  "kernelspec": {
   "display_name": "corso_progetto_env",
   "language": "python",
   "name": "python3"
  },
  "language_info": {
   "codemirror_mode": {
    "name": "ipython",
    "version": 3
   },
   "file_extension": ".py",
   "mimetype": "text/x-python",
   "name": "python",
   "nbconvert_exporter": "python",
   "pygments_lexer": "ipython3",
   "version": "3.13.3"
  }
 },
 "nbformat": 4,
 "nbformat_minor": 5
}
