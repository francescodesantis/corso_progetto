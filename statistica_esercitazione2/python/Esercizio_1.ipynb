{
  "cells": [
    {
      "cell_type": "code",
      "execution_count": 9,
      "id": "c7ce9ec4",
      "metadata": {
        "id": "c7ce9ec4"
      },
      "outputs": [],
      "source": [
        "import numpy as np\n",
        "import scipy.io\n",
        "import matplotlib.pyplot as plt\n",
        "from scipy.stats import f_oneway, normaltest\n",
        "import statsmodels.api as sm\n",
        "from statsmodels.formula.api import ols\n",
        "from statsmodels.stats.multicomp import pairwise_tukeyhsd\n",
        "import os"
      ]
    },
    {
      "cell_type": "code",
      "execution_count": 10,
      "id": "gaXkC3IDXjfq",
      "metadata": {
        "colab": {
          "base_uri": "https://localhost:8080/"
        },
        "id": "gaXkC3IDXjfq",
        "outputId": "d70bc948-c726-4070-8bfa-54b89337843f"
      },
      "outputs": [
        {
          "output_type": "stream",
          "name": "stdout",
          "text": [
            "Cloning into 'corso_progetto'...\n",
            "remote: Enumerating objects: 133, done.\u001b[K\n",
            "remote: Counting objects: 100% (133/133), done.\u001b[K\n",
            "remote: Compressing objects: 100% (116/116), done.\u001b[K\n",
            "remote: Total 133 (delta 45), reused 57 (delta 11), pack-reused 0 (from 0)\u001b[K\n",
            "Receiving objects: 100% (133/133), 692.28 KiB | 2.98 MiB/s, done.\n",
            "Resolving deltas: 100% (45/45), done.\n"
          ]
        }
      ],
      "source": [
        "#Per Google Colab\n",
        "#!git clone https://github.com/francescodesantis/corso_progetto.git\n",
        "#os.chdir('corso_progetto/statistica_esercitazione2/python')"
      ]
    },
    {
      "cell_type": "code",
      "execution_count": 13,
      "id": "xi5FrLRpXqJX",
      "metadata": {
        "colab": {
          "base_uri": "https://localhost:8080/"
        },
        "id": "xi5FrLRpXqJX",
        "outputId": "4bb532aa-854a-41ef-ca82-488d508e6c2e"
      },
      "outputs": [
        {
          "output_type": "stream",
          "name": "stdout",
          "text": [
            "/content/corso_progetto/statistica_esercitazione2/corso_progetto/statistica_esercitazione2/python\n"
          ]
        }
      ],
      "source": [
        "print(os.getcwd())"
      ]
    },
    {
      "cell_type": "code",
      "execution_count": 14,
      "id": "5db64481",
      "metadata": {
        "colab": {
          "base_uri": "https://localhost:8080/"
        },
        "id": "5db64481",
        "outputId": "7d3728e0-3fa4-4d8a-a950-a1b770122e7d"
      },
      "outputs": [
        {
          "output_type": "execute_result",
          "data": {
            "text/plain": [
              "dict_keys(['__header__', '__version__', '__globals__', 'Age', 'Diet', 'Height', 'Person', 'WeightLoss', 'gender'])"
            ]
          },
          "metadata": {},
          "execution_count": 14
        }
      ],
      "source": [
        "mat_data = scipy.io.loadmat('../Data_example4.mat')\n",
        "mat_data.keys()"
      ]
    },
    {
      "cell_type": "code",
      "execution_count": null,
      "id": "dfdb0e01",
      "metadata": {
        "id": "dfdb0e01",
        "outputId": "d0754dc3-0ed8-4d36-b037-40d9dd978903"
      },
      "outputs": [
        {
          "data": {
            "text/html": [
              "<div>\n",
              "<style scoped>\n",
              "    .dataframe tbody tr th:only-of-type {\n",
              "        vertical-align: middle;\n",
              "    }\n",
              "\n",
              "    .dataframe tbody tr th {\n",
              "        vertical-align: top;\n",
              "    }\n",
              "\n",
              "    .dataframe thead th {\n",
              "        text-align: right;\n",
              "    }\n",
              "</style>\n",
              "<table border=\"1\" class=\"dataframe\">\n",
              "  <thead>\n",
              "    <tr style=\"text-align: right;\">\n",
              "      <th></th>\n",
              "      <th>Age</th>\n",
              "      <th>Diet</th>\n",
              "      <th>Height</th>\n",
              "      <th>Person</th>\n",
              "      <th>WeightLoss</th>\n",
              "      <th>Gender</th>\n",
              "    </tr>\n",
              "  </thead>\n",
              "  <tbody>\n",
              "    <tr>\n",
              "      <th>0</th>\n",
              "      <td>41</td>\n",
              "      <td>2</td>\n",
              "      <td>171</td>\n",
              "      <td>25</td>\n",
              "      <td>0.0</td>\n",
              "      <td>0</td>\n",
              "    </tr>\n",
              "    <tr>\n",
              "      <th>1</th>\n",
              "      <td>32</td>\n",
              "      <td>2</td>\n",
              "      <td>174</td>\n",
              "      <td>26</td>\n",
              "      <td>0.0</td>\n",
              "      <td>0</td>\n",
              "    </tr>\n",
              "    <tr>\n",
              "      <th>2</th>\n",
              "      <td>22</td>\n",
              "      <td>1</td>\n",
              "      <td>159</td>\n",
              "      <td>1</td>\n",
              "      <td>-3.8</td>\n",
              "      <td>0</td>\n",
              "    </tr>\n",
              "    <tr>\n",
              "      <th>3</th>\n",
              "      <td>46</td>\n",
              "      <td>1</td>\n",
              "      <td>192</td>\n",
              "      <td>2</td>\n",
              "      <td>-6.0</td>\n",
              "      <td>0</td>\n",
              "    </tr>\n",
              "    <tr>\n",
              "      <th>4</th>\n",
              "      <td>55</td>\n",
              "      <td>1</td>\n",
              "      <td>170</td>\n",
              "      <td>3</td>\n",
              "      <td>-0.7</td>\n",
              "      <td>0</td>\n",
              "    </tr>\n",
              "  </tbody>\n",
              "</table>\n",
              "</div>"
            ],
            "text/plain": [
              "   Age  Diet  Height  Person  WeightLoss  Gender\n",
              "0   41     2     171      25         0.0       0\n",
              "1   32     2     174      26         0.0       0\n",
              "2   22     1     159       1        -3.8       0\n",
              "3   46     1     192       2        -6.0       0\n",
              "4   55     1     170       3        -0.7       0"
            ]
          },
          "execution_count": 95,
          "metadata": {},
          "output_type": "execute_result"
        }
      ],
      "source": [
        "import pandas as pd\n",
        "\n",
        "# Advantages:\n",
        "# Organized structure: Rows and columns for easy viewing.\n",
        "# Fast manipulation: Quick filtering, slicing, and calculations.\n",
        "# Built-in analysis: Easy stats, group-by, and aggregation.\n",
        "# Integration: Works with visualization and ML libraries.\n",
        "# Data cleaning: Handle missing or messy data easily.\n",
        "# Flexible export: Save to CSV, Excel, databases, etc.\n",
        "# Handles big data: Efficient memory use and performance.\n",
        "# Rich ecosystem: Lots of tools, docs, and community support.\n",
        "\n",
        "# Create the dataframe\n",
        "data = {\n",
        "    'Age': mat_data['Age'].flatten(),\n",
        "    'Diet': mat_data['Diet'].flatten(),\n",
        "    'Height': mat_data['Height'].flatten(),\n",
        "    'Person': mat_data['Person'].flatten(),\n",
        "    'WeightLoss': mat_data['WeightLoss'].flatten(),\n",
        "    'Gender': mat_data['gender'].flatten()\n",
        "}\n",
        "\n",
        "# Convert the data into a pandas DataFrame for a tabular view\n",
        "df = pd.DataFrame(data)\n",
        "\n",
        "df.head() # Display the table\n",
        "# df.WeightLoss.hist() # Show a histogram\n",
        "# df[df['Age'] > 30]  # Filter rows where Age > 30\n",
        "# df[['Person', 'WeightLoss']]  # Select specific columns\n",
        "# df.sort_values('Height', ascending=False)  # Sort by Height descending\n",
        "# df.groupby('Diet')['WeightLoss'].mean()  # Group by Diet and get average WeightLoss\n",
        "# df['BMI'] = df['WeightLoss'] / (df['Height']/100)**2  # Add new column for BMI\n",
        "# df.dropna(subset=['Age', 'Height'])  # Drop rows with missing Age or Height\n",
        "# df.rename(columns={'WeightLoss': 'Weight_Loss'})  # Rename column WeightLoss to Weight_Loss\n",
        "# df.describe()  # Quick statistics summary\n"
      ]
    },
    {
      "cell_type": "code",
      "execution_count": null,
      "id": "e8da4fd0",
      "metadata": {
        "id": "e8da4fd0"
      },
      "outputs": [],
      "source": [
        "WeightLoss = mat_data['WeightLoss'].flatten()\n",
        "Diet = mat_data['Diet'].flatten()\n",
        "gender = mat_data['gender'].flatten()"
      ]
    },
    {
      "cell_type": "code",
      "execution_count": null,
      "id": "c5dd3689",
      "metadata": {
        "id": "c5dd3689"
      },
      "outputs": [],
      "source": [
        "WeightLoss = df.WeightLoss\n",
        "Diet = df.Diet\n",
        "gender = df.Gender"
      ]
    },
    {
      "cell_type": "code",
      "execution_count": null,
      "id": "38a3aeef",
      "metadata": {
        "colab": {
          "base_uri": "https://localhost:8080/",
          "height": 465
        },
        "id": "38a3aeef",
        "outputId": "9711b49a-2ee1-4f35-c894-4f210b9e7ddb"
      },
      "outputs": [
        {
          "data": {
            "image/png": "[encoded data removed]",
            "text/plain": [
              "<Figure size 700x500 with 1 Axes>"
            ]
          },
          "metadata": {},
          "output_type": "display_data"
        }
      ],
      "source": [
        "# Preliminary data visualization\n",
        "fig, ax = plt.subplots(1, figsize = (7,5))\n",
        "\n",
        "ax.hist(WeightLoss)\n",
        "ax.set_xlabel('Weight Loss [kg]')\n",
        "ax.set_ylabel('Frequency')\n",
        "ax.spines['top'].set_visible(False)\n",
        "ax.spines['right'].set_visible(False)\n",
        "plt.show()"
      ]
    },
    {
      "cell_type": "code",
      "execution_count": null,
      "id": "c652ebaa",
      "metadata": {
        "colab": {
          "base_uri": "https://localhost:8080/"
        },
        "id": "c652ebaa",
        "outputId": "905b46a4-5ea8-4792-f4ae-bdd1a1ff9e73"
      },
      "outputs": [
        {
          "data": {
            "text/plain": [
              "np.float64(0.6617935470237468)"
            ]
          },
          "execution_count": 85,
          "metadata": {},
          "output_type": "execute_result"
        }
      ],
      "source": [
        "_,p = normaltest(WeightLoss)\n",
        "p"
      ]
    },
    {
      "cell_type": "markdown",
      "id": "adbaed36",
      "metadata": {
        "id": "adbaed36"
      },
      "source": [
        "Se p_value del norlmaltest è alto, non posso rifiutare l'ipotesi H0 di normalità"
      ]
    },
    {
      "cell_type": "code",
      "execution_count": null,
      "id": "98b82bde",
      "metadata": {
        "id": "98b82bde"
      },
      "outputs": [],
      "source": [
        "# Mean and standard deviation calculation for each diet and gender combination\n",
        "mean_diet1F = np.mean(WeightLoss[(Diet == 1) & (gender == 0)])\n",
        "mean_diet1M = np.mean(WeightLoss[(Diet == 1) & (gender == 1)])\n",
        "mean_diet2F = np.mean(WeightLoss[(Diet == 2) & (gender == 0)])\n",
        "mean_diet2M = np.mean(WeightLoss[(Diet == 2) & (gender == 1)])\n",
        "mean_diet3F = np.mean(WeightLoss[(Diet == 3) & (gender == 0)])\n",
        "mean_diet3M = np.mean(WeightLoss[(Diet == 3) & (gender == 1)])\n",
        "\n",
        "std_diet1F = np.std(WeightLoss[(Diet == 1) & (gender == 0)])\n",
        "std_diet1M = np.std(WeightLoss[(Diet == 1) & (gender == 1)])\n",
        "std_diet2F = np.std(WeightLoss[(Diet == 2) & (gender == 0)])\n",
        "std_diet2M = np.std(WeightLoss[(Diet == 2) & (gender == 1)])\n",
        "std_diet3F = np.std(WeightLoss[(Diet == 3) & (gender == 0)])\n",
        "std_diet3M = np.std(WeightLoss[(Diet == 3) & (gender == 1)])"
      ]
    },
    {
      "cell_type": "code",
      "execution_count": null,
      "id": "e717a1bf",
      "metadata": {
        "id": "e717a1bf",
        "outputId": "82da9345-0a01-4534-a7be-0e946507996c"
      },
      "outputs": [
        {
          "data": {
            "image/png": "[encoded data removed]",
            "text/plain": [
              "<Figure size 640x480 with 1 Axes>"
            ]
          },
          "metadata": {},
          "output_type": "display_data"
        }
      ],
      "source": [
        "fig, ax = plt.subplots()\n",
        "ax.errorbar([1, 2, 3], [mean_diet1F, mean_diet2F, mean_diet3F],\n",
        "            yerr=[std_diet1F, std_diet2F, std_diet3F],\n",
        "            marker='o', color='g', linestyle='-')\n",
        "ax.errorbar([1.2, 2.2, 3.3], [mean_diet1M, mean_diet2M, mean_diet3M],\n",
        "            yerr=[std_diet1M, std_diet2M, std_diet3M],\n",
        "            marker='o', color='r', linestyle='-')\n",
        "ax.set_xticks([1.1, 2.1, 3.1])\n",
        "ax.set_xticklabels(['Diet1', 'Diet2', 'Diet3'])\n",
        "ax.set_ylabel('Weight Loss [kg]')\n",
        "ax.set_xlim([0.5, 3.8])\n",
        "ax.legend(['F', 'M'])\n",
        "ax.spines['top'].set_visible(False)\n",
        "ax.spines['right'].set_visible(False)\n"
      ]
    },
    {
      "cell_type": "markdown",
      "id": "1416ea0a",
      "metadata": {
        "id": "1416ea0a"
      },
      "source": [
        "Nel caso dell'ANOVA, l'ipotesi nulla prevede che i dati di tutti i gruppi abbiano la stessa origine, ovvero la stessa distribuzione stocastica, e che le differenze osservate tra i gruppi siano dovute solo al caso."
      ]
    },
    {
      "cell_type": "code",
      "execution_count": null,
      "id": "60afba90",
      "metadata": {
        "id": "60afba90"
      },
      "outputs": [],
      "source": [
        "# Creating DataFrame from the data\n",
        "df2 = pd.DataFrame({'outcome_variable': WeightLoss,\n",
        "                   'factor1': Diet,\n",
        "                   'factor2': gender})\n",
        "\n",
        "# Defining the model\n",
        "model = ols('outcome_variable ~ C(factor1) + C(factor2) + C(factor1):C(factor2)', data=df2).fit()\n",
        "\n",
        "# Model:\n",
        "# WeightLoss = β0 + β1(Diet) + β2(Gender) + β3(Diet×Gender) + ε\n",
        "\n",
        "# ANOVA table\n",
        "anova_table = sm.stats.anova_lm(model, typ=2)"
      ]
    },
    {
      "cell_type": "code",
      "execution_count": null,
      "id": "c1c72553",
      "metadata": {
        "id": "c1c72553",
        "outputId": "519fc325-048a-4a5e-948f-6f3aec05bb56"
      },
      "outputs": [
        {
          "data": {
            "text/html": [
              "<div>\n",
              "<style scoped>\n",
              "    .dataframe tbody tr th:only-of-type {\n",
              "        vertical-align: middle;\n",
              "    }\n",
              "\n",
              "    .dataframe tbody tr th {\n",
              "        vertical-align: top;\n",
              "    }\n",
              "\n",
              "    .dataframe thead th {\n",
              "        text-align: right;\n",
              "    }\n",
              "</style>\n",
              "<table border=\"1\" class=\"dataframe\">\n",
              "  <thead>\n",
              "    <tr style=\"text-align: right;\">\n",
              "      <th></th>\n",
              "      <th>sum_sq</th>\n",
              "      <th>df</th>\n",
              "      <th>F</th>\n",
              "      <th>PR(&gt;F)</th>\n",
              "    </tr>\n",
              "  </thead>\n",
              "  <tbody>\n",
              "    <tr>\n",
              "      <th>C(factor1)</th>\n",
              "      <td>70.470330</td>\n",
              "      <td>2.0</td>\n",
              "      <td>6.534709</td>\n",
              "      <td>0.002467</td>\n",
              "    </tr>\n",
              "    <tr>\n",
              "      <th>C(factor2)</th>\n",
              "      <td>1.035165</td>\n",
              "      <td>1.0</td>\n",
              "      <td>0.191982</td>\n",
              "      <td>0.662584</td>\n",
              "    </tr>\n",
              "    <tr>\n",
              "      <th>C(factor1):C(factor2)</th>\n",
              "      <td>40.919962</td>\n",
              "      <td>2.0</td>\n",
              "      <td>3.794506</td>\n",
              "      <td>0.027118</td>\n",
              "    </tr>\n",
              "    <tr>\n",
              "      <th>Residual</th>\n",
              "      <td>388.224133</td>\n",
              "      <td>72.0</td>\n",
              "      <td>NaN</td>\n",
              "      <td>NaN</td>\n",
              "    </tr>\n",
              "  </tbody>\n",
              "</table>\n",
              "</div>"
            ],
            "text/plain": [
              "                           sum_sq    df         F    PR(>F)\n",
              "C(factor1)              70.470330   2.0  6.534709  0.002467\n",
              "C(factor2)               1.035165   1.0  0.191982  0.662584\n",
              "C(factor1):C(factor2)   40.919962   2.0  3.794506  0.027118\n",
              "Residual               388.224133  72.0       NaN       NaN"
            ]
          },
          "execution_count": 101,
          "metadata": {},
          "output_type": "execute_result"
        }
      ],
      "source": [
        "anova_table"
      ]
    },
    {
      "cell_type": "code",
      "execution_count": null,
      "id": "87d27768",
      "metadata": {
        "id": "87d27768",
        "outputId": "92f788d4-6be1-4bf9-e01e-939c08477ca8"
      },
      "outputs": [
        {
          "data": {
            "image/png": "[encoded data removed]",
            "text/plain": [
              "<Figure size 700x500 with 1 Axes>"
            ]
          },
          "metadata": {},
          "output_type": "display_data"
        }
      ],
      "source": [
        "import seaborn as sns\n",
        "\n",
        "\n",
        "# Custom colors for F and M\n",
        "palette = {0: 'g', 1: 'r'}\n",
        "\n",
        "# Create a new DataFrame for visualization\n",
        "df['gender_label'] = df['factor2'].map({0: 'F', 1: 'M'})  # Map 0 to 'F' and 1 to 'M'\n",
        "\n",
        "# Create the subplot\n",
        "fig, ax = plt.subplots(figsize=(7, 5))\n",
        "\n",
        "# Create the boxplot\n",
        "sns.boxplot(x='factor1', y='outcome_variable', hue='factor2', data=df, palette=palette, ax=ax)\n",
        "\n",
        "# Remove spines (top and right)\n",
        "sns.despine(top=True, right=True)\n",
        "\n",
        "# Customize title and labels\n",
        "ax.set_title('Interaction between Diet and Gender on Weight Loss')\n",
        "ax.set_xlabel('Diet')\n",
        "ax.set_ylabel('Weight Loss [kg]')\n",
        "\n",
        "# Correct the legend (map 0 to 'F' and 1 to 'M')\n",
        "handles, labels = ax.get_legend_handles_labels()\n",
        "labels = ['F', 'M']  # Correct the legend labels\n",
        "ax.legend(handles, labels, title='Gender', loc='upper right')\n",
        "\n",
        "# Show plot\n",
        "plt.show()\n"
      ]
    },
    {
      "cell_type": "code",
      "execution_count": null,
      "id": "b280a78f",
      "metadata": {
        "id": "b280a78f",
        "outputId": "5bb4dd08-1a25-48e7-9f75-aafa9f9da7e5"
      },
      "outputs": [
        {
          "data": {
            "image/png": "[encoded data removed]",
            "text/plain": [
              "<Figure size 700x500 with 1 Axes>"
            ]
          },
          "metadata": {},
          "output_type": "display_data"
        }
      ],
      "source": [
        "# Extract coefficients and confidence intervals\n",
        "# WeightLoss = β0 + β1(Diet) + β2(Gender) + β3(Diet×Gender) + ε\n",
        "coef = model.params\n",
        "conf = model.conf_int()\n",
        "conf.columns = ['lower_bound', 'upper_bound']\n",
        "\n",
        "# Combine into one DataFrame\n",
        "coef_df = pd.concat([coef, conf], axis=1).reset_index()\n",
        "coef_df.columns = ['term', 'coef', 'lower_bound', 'upper_bound']\n",
        "\n",
        "# coefficient plot (sometimes called a \"forest plot\"\n",
        "fig, ax = plt.subplots(figsize=(7, 5))\n",
        "\n",
        "# Scatter plot for coefficients\n",
        "ax.scatter(coef_df['coef'], coef_df['term'], color='blue', zorder=3)\n",
        "\n",
        "# Error bars for confidence intervals\n",
        "for idx, row in coef_df.iterrows():\n",
        "    ax.plot([row['lower_bound'], row['upper_bound']], [row['term'], row['term']],\n",
        "             color='gray', lw=2)\n",
        "\n",
        "# Add a vertical line at 0\n",
        "ax.axvline(x=0, color='red', linestyle='--', lw=1)\n",
        "ax.set_xlabel('Coefficient Estimate')\n",
        "ax.set_ylabel('Model Term')\n",
        "ax.set_title('Coefficient Plot with Confidence Intervals')\n",
        "ax.spines['top'].set_visible(False)\n",
        "ax.spines['right'].set_visible(False)\n",
        "ax.grid(True, which='both', linestyle='--', linewidth=0.5, zorder=0)\n",
        "\n",
        "plt.tight_layout()\n",
        "plt.show()\n"
      ]
    },
    {
      "cell_type": "code",
      "execution_count": null,
      "id": "22f12b19",
      "metadata": {
        "id": "22f12b19"
      },
      "outputs": [],
      "source": []
    }
  ],
  "metadata": {
    "colab": {
      "provenance": []
    },
    "kernelspec": {
      "display_name": "corso_progetto_env",
      "language": "python",
      "name": "python3"
    },
    "language_info": {
      "codemirror_mode": {
        "name": "ipython",
        "version": 3
      },
      "file_extension": ".py",
      "mimetype": "text/x-python",
      "name": "python",
      "nbconvert_exporter": "python",
      "pygments_lexer": "ipython3",
      "version": "3.13.3"
    }
  },
  "nbformat": 4,
  "nbformat_minor": 5
}