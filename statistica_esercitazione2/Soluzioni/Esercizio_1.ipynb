{
 "cells": [
  {
   "cell_type": "code",
   "execution_count": 17,
   "id": "c7ce9ec4",
   "metadata": {},
   "outputs": [],
   "source": [
    "import numpy as np\n",
    "import scipy.io\n",
    "import matplotlib.pyplot as plt\n",
    "from scipy.stats import f_oneway, normaltest\n",
    "import statsmodels.api as sm\n",
    "from statsmodels.formula.api import ols\n",
    "from statsmodels.stats.multicomp import pairwise_tukeyhsd"
   ]
  },
  {
   "cell_type": "code",
   "execution_count": 2,
   "id": "a46abb1c",
   "metadata": {},
   "outputs": [],
   "source": [
    "data = scipy.io.loadmat('Data_example4.mat')"
   ]
  },
  {
   "cell_type": "code",
   "execution_count": 3,
   "id": "e8da4fd0",
   "metadata": {},
   "outputs": [],
   "source": [
    "WeightLoss = data['WeightLoss'].flatten()\n",
    "Diet = data['Diet'].flatten()\n",
    "gender = data['gender'].flatten()"
   ]
  },
  {
   "cell_type": "code",
   "execution_count": 4,
   "id": "38a3aeef",
   "metadata": {},
   "outputs": [
    {
     "data": {
      "image/png": "[encoded data removed]",
      "text/plain": [
       "<Figure size 640x480 with 1 Axes>"
      ]
     },
     "metadata": {},
     "output_type": "display_data"
    }
   ],
   "source": [
    "# Preliminary data visualization\n",
    "plt.figure()\n",
    "plt.hist(WeightLoss)\n",
    "plt.show()"
   ]
  },
  {
   "cell_type": "code",
   "execution_count": 7,
   "id": "c652ebaa",
   "metadata": {},
   "outputs": [
    {
     "data": {
      "text/plain": [
       "0.6617935470237468"
      ]
     },
     "execution_count": 7,
     "metadata": {},
     "output_type": "execute_result"
    }
   ],
   "source": [
    "_,p = normaltest(WeightLoss)\n",
    "p"
   ]
  },
  {
   "cell_type": "code",
   "execution_count": 10,
   "id": "98b82bde",
   "metadata": {},
   "outputs": [
    {
     "data": {
      "image/png": "[encoded data removed]",
      "text/plain": [
       "<Figure size 640x480 with 1 Axes>"
      ]
     },
     "metadata": {},
     "output_type": "display_data"
    }
   ],
   "source": [
    "# Mean and standard deviation calculation for each diet and gender combination\n",
    "mean_diet1F = np.mean(WeightLoss[(Diet == 1) & (gender == 0)])\n",
    "mean_diet1M = np.mean(WeightLoss[(Diet == 1) & (gender == 1)])\n",
    "mean_diet2F = np.mean(WeightLoss[(Diet == 2) & (gender == 0)])\n",
    "mean_diet2M = np.mean(WeightLoss[(Diet == 2) & (gender == 1)])\n",
    "mean_diet3F = np.mean(WeightLoss[(Diet == 3) & (gender == 0)])\n",
    "mean_diet3M = np.mean(WeightLoss[(Diet == 3) & (gender == 1)])\n",
    "\n",
    "std_diet1F = np.std(WeightLoss[(Diet == 1) & (gender == 0)])\n",
    "std_diet1M = np.std(WeightLoss[(Diet == 1) & (gender == 1)])\n",
    "std_diet2F = np.std(WeightLoss[(Diet == 2) & (gender == 0)])\n",
    "std_diet2M = np.std(WeightLoss[(Diet == 2) & (gender == 1)])\n",
    "std_diet3F = np.std(WeightLoss[(Diet == 3) & (gender == 0)])\n",
    "std_diet3M = np.std(WeightLoss[(Diet == 3) & (gender == 1)])\n",
    "\n",
    "# Visualization of means with error bars\n",
    "plt.figure()\n",
    "plt.errorbar([1, 2, 3], [mean_diet1F, mean_diet2F, mean_diet3F], [std_diet1F, std_diet2F, std_diet3F], marker='o', color='m', linestyle='-')\n",
    "plt.errorbar([1.2, 2.2, 3.3], [mean_diet1M, mean_diet2M, mean_diet3M], [std_diet1M, std_diet2M, std_diet3M], marker='o', color='b', linestyle='-')\n",
    "plt.xticks([1.1, 2.1, 3.1], ['Diet1', 'Diet2', 'Diet3'])\n",
    "plt.ylabel('Weight Loss [kg]')\n",
    "plt.xlim([0.5, 3.8])\n",
    "plt.legend(['F', 'M'])\n",
    "plt.show()"
   ]
  },
  {
   "cell_type": "markdown",
   "id": "1416ea0a",
   "metadata": {},
   "source": [
    "Nel caso dell'ANOVA, l'ipotesi nulla prevede che i dati di tutti i gruppi abbiano la stessa origine, ovvero la stessa distribuzione stocastica, e che le differenze osservate tra i gruppi siano dovute solo al caso."
   ]
  },
  {
   "cell_type": "code",
   "execution_count": 18,
   "id": "60afba90",
   "metadata": {},
   "outputs": [],
   "source": [
    "# Creating DataFrame from the data\n",
    "df = pd.DataFrame({'outcome_variable': WeightLoss,\n",
    "                   'factor1': Diet,\n",
    "                   'factor2': gender})\n",
    "\n",
    "# Defining the model\n",
    "model = ols('outcome_variable ~ C(factor1) + C(factor2) + C(factor1):C(factor2)', data=df).fit()\n",
    "\n",
    "# ANOVA table\n",
    "anova_table = sm.stats.anova_lm(model, typ=2)"
   ]
  },
  {
   "cell_type": "code",
   "execution_count": 19,
   "id": "c1c72553",
   "metadata": {},
   "outputs": [
    {
     "data": {
      "text/html": [
       "<div>\n",
       "<style scoped>\n",
       "    .dataframe tbody tr th:only-of-type {\n",
       "        vertical-align: middle;\n",
       "    }\n",
       "\n",
       "    .dataframe tbody tr th {\n",
       "        vertical-align: top;\n",
       "    }\n",
       "\n",
       "    .dataframe thead th {\n",
       "        text-align: right;\n",
       "    }\n",
       "</style>\n",
       "<table border=\"1\" class=\"dataframe\">\n",
       "  <thead>\n",
       "    <tr style=\"text-align: right;\">\n",
       "      <th></th>\n",
       "      <th>sum_sq</th>\n",
       "      <th>df</th>\n",
       "      <th>F</th>\n",
       "      <th>PR(&gt;F)</th>\n",
       "    </tr>\n",
       "  </thead>\n",
       "  <tbody>\n",
       "    <tr>\n",
       "      <th>C(factor1)</th>\n",
       "      <td>70.470330</td>\n",
       "      <td>2.0</td>\n",
       "      <td>6.534709</td>\n",
       "      <td>0.002467</td>\n",
       "    </tr>\n",
       "    <tr>\n",
       "      <th>C(factor2)</th>\n",
       "      <td>1.035165</td>\n",
       "      <td>1.0</td>\n",
       "      <td>0.191982</td>\n",
       "      <td>0.662584</td>\n",
       "    </tr>\n",
       "    <tr>\n",
       "      <th>C(factor1):C(factor2)</th>\n",
       "      <td>40.919962</td>\n",
       "      <td>2.0</td>\n",
       "      <td>3.794506</td>\n",
       "      <td>0.027118</td>\n",
       "    </tr>\n",
       "    <tr>\n",
       "      <th>Residual</th>\n",
       "      <td>388.224133</td>\n",
       "      <td>72.0</td>\n",
       "      <td>NaN</td>\n",
       "      <td>NaN</td>\n",
       "    </tr>\n",
       "  </tbody>\n",
       "</table>\n",
       "</div>"
      ],
      "text/plain": [
       "                           sum_sq    df         F    PR(>F)\n",
       "C(factor1)              70.470330   2.0  6.534709  0.002467\n",
       "C(factor2)               1.035165   1.0  0.191982  0.662584\n",
       "C(factor1):C(factor2)   40.919962   2.0  3.794506  0.027118\n",
       "Residual               388.224133  72.0       NaN       NaN"
      ]
     },
     "execution_count": 19,
     "metadata": {},
     "output_type": "execute_result"
    }
   ],
   "source": [
    "anova_table"
   ]
  },
  {
   "cell_type": "code",
   "execution_count": null,
   "id": "b3c20327",
   "metadata": {},
   "outputs": [],
   "source": []
  }
 ],
 "metadata": {
  "kernelspec": {
   "display_name": "Python 3 (ipykernel)",
   "language": "python",
   "name": "python3"
  },
  "language_info": {
   "codemirror_mode": {
    "name": "ipython",
    "version": 3
   },
   "file_extension": ".py",
   "mimetype": "text/x-python",
   "name": "python",
   "nbconvert_exporter": "python",
   "pygments_lexer": "ipython3",
   "version": "3.10.9"
  }
 },
 "nbformat": 4,
 "nbformat_minor": 5
}
